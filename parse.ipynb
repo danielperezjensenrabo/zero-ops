{
 "cells": [
  {
   "cell_type": "code",
   "execution_count": null,
   "metadata": {},
   "outputs": [],
   "source": [
    "import pandas as pd\n",
    "\n",
    "with open(\"\")"
   ]
  }
 ],
 "metadata": {
  "kernelspec": {
   "display_name": "accelerators-cFOVFvOq",
   "language": "python",
   "name": "python3"
  },
  "language_info": {
   "name": "python",
   "version": "3.12.1"
  }
 },
 "nbformat": 4,
 "nbformat_minor": 2
}
